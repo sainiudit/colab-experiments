{
  "nbformat": 4,
  "nbformat_minor": 0,
  "metadata": {
    "colab": {
      "name": "load-data-from-kaggle.ipynb",
      "version": "0.3.2",
      "provenance": [],
      "toc_visible": true,
      "include_colab_link": true
    },
    "kernelspec": {
      "name": "python3",
      "display_name": "Python 3"
    }
  },
  "cells": [
    {
      "cell_type": "markdown",
      "metadata": {
        "id": "view-in-github",
        "colab_type": "text"
      },
      "source": [
        "<a href=\"https://colab.research.google.com/github/thingumajig/colab-experiments/blob/master/load_data_from_kaggle.ipynb\" target=\"_parent\"><img src=\"https://colab.research.google.com/assets/colab-badge.svg\" alt=\"Open In Colab\"/></a>"
      ]
    },
    {
      "cell_type": "markdown",
      "metadata": {
        "id": "vKhifO8xsrvw",
        "colab_type": "text"
      },
      "source": [
        "# .init"
      ]
    },
    {
      "cell_type": "markdown",
      "metadata": {
        "id": "L_pQRHkuyzSi",
        "colab_type": "text"
      },
      "source": [
        "### install kaggle API and make working directory."
      ]
    },
    {
      "cell_type": "code",
      "metadata": {
        "id": "18XiCd-xr54h",
        "colab_type": "code",
        "colab": {}
      },
      "source": [
        "!pip install -U -q kaggle\n",
        "!mkdir -p ~/.kaggle"
      ],
      "execution_count": 0,
      "outputs": []
    },
    {
      "cell_type": "markdown",
      "metadata": {
        "id": "Gk2Tvs5TzEWG",
        "colab_type": "text"
      },
      "source": [
        "### download kaggle api key"
      ]
    },
    {
      "cell_type": "code",
      "metadata": {
        "id": "m3j2T5Z5t4xW",
        "colab_type": "code",
        "colab": {
          "resources": {
            "http://localhost:8080/nbextensions/google.colab/files.js": {
              "data": "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",
              "ok": true,
              "headers": [
                [
                  "content-type",
                  "application/javascript"
                ]
              ],
              "status": 200,
              "status_text": ""
            }
          },
          "base_uri": "https://localhost:8080/",
          "height": 75
        },
        "outputId": "16bdcc09-3aa3-43ad-a75d-7b6e2dfbbeac"
      },
      "source": [
        "from google.colab import files\n",
        "files.upload()\n",
        "!cp kaggle.json ~/.kaggle/\n",
        "!chmod 600 /root/.kaggle/kaggle.json  # set permission"
      ],
      "execution_count": 2,
      "outputs": [
        {
          "output_type": "display_data",
          "data": {
            "text/html": [
              "\n",
              "     <input type=\"file\" id=\"files-ac0a945e-9028-46a5-bc49-288a22a30e89\" name=\"files[]\" multiple disabled />\n",
              "     <output id=\"result-ac0a945e-9028-46a5-bc49-288a22a30e89\">\n",
              "      Upload widget is only available when the cell has been executed in the\n",
              "      current browser session. Please rerun this cell to enable.\n",
              "      </output>\n",
              "      <script src=\"/nbextensions/google.colab/files.js\"></script> "
            ],
            "text/plain": [
              "<IPython.core.display.HTML object>"
            ]
          },
          "metadata": {
            "tags": []
          }
        },
        {
          "output_type": "stream",
          "text": [
            "Saving kaggle.json to kaggle.json\n"
          ],
          "name": "stdout"
        }
      ]
    },
    {
      "cell_type": "markdown",
      "metadata": {
        "id": "ketBvCkpzbiT",
        "colab_type": "text"
      },
      "source": [
        "### kaggle dataset list"
      ]
    },
    {
      "cell_type": "code",
      "metadata": {
        "id": "Y9I_hPgpzaOn",
        "colab_type": "code",
        "colab": {
          "base_uri": "https://localhost:8080/",
          "height": 173
        },
        "outputId": "1fc4eae9-fc48-4809-d6a3-bd25f110a47e"
      },
      "source": [
        "\n",
        "!kaggle datasets list -s enron"
      ],
      "execution_count": 4,
      "outputs": [
        {
          "output_type": "stream",
          "text": [
            "Warning: Your Kaggle API key is readable by other users on this system! To fix this, you can run 'chmod 600 /root/.kaggle/kaggle.json'\n",
            "ref                                                    title                                     size  lastUpdated          downloadCount  \n",
            "-----------------------------------------------------  ---------------------------------------  -----  -------------------  -------------  \n",
            "wcukierski/enron-email-dataset                         The Enron Email Dataset                  386MB  2016-06-16 20:55:19          14871  \n",
            "rtatman/fraudulent-email-corpus                        Fraudulent E-mail Corpus                   6MB  2017-07-25 18:41:30           2060  \n",
            "venky73/spam-mails-dataset                             Spam Mails Dataset                         2MB  2019-01-23 13:44:37             75  \n",
            "sagarnildass/enron-person-of-interest-dataset          Enron Person of Interest Dataset          15KB  2017-07-03 07:28:00             70  \n",
            "loryn808/truncated-enron                               Truncated Enron                          320KB  2018-06-28 13:56:55              8  \n",
            "hanumanjunction/year-vs-number-of-emails-enron-emails  Year vs Number of emails - Enron Emails    3KB  2017-11-16 05:33:09             42  \n"
          ],
          "name": "stdout"
        }
      ]
    },
    {
      "cell_type": "code",
      "metadata": {
        "id": "0uIP7CpY6ovT",
        "colab_type": "code",
        "colab": {
          "base_uri": "https://localhost:8080/",
          "height": 104
        },
        "outputId": "7a77ffad-ceeb-45f6-d033-2ba59d235258"
      },
      "source": [
        "!kaggle datasets download -d wcukierski/enron-email-dataset\n",
        "!ls\n",
        " "
      ],
      "execution_count": 5,
      "outputs": [
        {
          "output_type": "stream",
          "text": [
            "Warning: Your Kaggle API key is readable by other users on this system! To fix this, you can run 'chmod 600 /root/.kaggle/kaggle.json'\n",
            "Downloading enron-email-dataset.zip to /content\n",
            " 97% 373M/386M [00:04<00:00, 82.0MB/s]\n",
            "100% 386M/386M [00:04<00:00, 86.0MB/s]\n",
            "enron-email-dataset.zip  kaggle.json  sample_data\n"
          ],
          "name": "stdout"
        }
      ]
    },
    {
      "cell_type": "code",
      "metadata": {
        "id": "BK4OkzxW7UsG",
        "colab_type": "code",
        "colab": {
          "base_uri": "https://localhost:8080/",
          "height": 1949
        },
        "outputId": "1fb9774a-8e24-47c7-965d-ca311fa4cdf0"
      },
      "source": [
        "import pandas as pd\n",
        "\n",
        "pd.read_csv('enron-email-dataset.zip', compression='zip', header=0, sep=',', quotechar='\"', nrows = 100)"
      ],
      "execution_count": 17,
      "outputs": [
        {
          "output_type": "execute_result",
          "data": {
            "text/html": [
              "<div>\n",
              "<style scoped>\n",
              "    .dataframe tbody tr th:only-of-type {\n",
              "        vertical-align: middle;\n",
              "    }\n",
              "\n",
              "    .dataframe tbody tr th {\n",
              "        vertical-align: top;\n",
              "    }\n",
              "\n",
              "    .dataframe thead th {\n",
              "        text-align: right;\n",
              "    }\n",
              "</style>\n",
              "<table border=\"1\" class=\"dataframe\">\n",
              "  <thead>\n",
              "    <tr style=\"text-align: right;\">\n",
              "      <th></th>\n",
              "      <th>file</th>\n",
              "      <th>message</th>\n",
              "    </tr>\n",
              "  </thead>\n",
              "  <tbody>\n",
              "    <tr>\n",
              "      <th>0</th>\n",
              "      <td>allen-p/_sent_mail/1.</td>\n",
              "      <td>Message-ID: &lt;18782981.1075855378110.JavaMail.e...</td>\n",
              "    </tr>\n",
              "    <tr>\n",
              "      <th>1</th>\n",
              "      <td>allen-p/_sent_mail/10.</td>\n",
              "      <td>Message-ID: &lt;15464986.1075855378456.JavaMail.e...</td>\n",
              "    </tr>\n",
              "    <tr>\n",
              "      <th>2</th>\n",
              "      <td>allen-p/_sent_mail/100.</td>\n",
              "      <td>Message-ID: &lt;24216240.1075855687451.JavaMail.e...</td>\n",
              "    </tr>\n",
              "    <tr>\n",
              "      <th>3</th>\n",
              "      <td>allen-p/_sent_mail/1000.</td>\n",
              "      <td>Message-ID: &lt;13505866.1075863688222.JavaMail.e...</td>\n",
              "    </tr>\n",
              "    <tr>\n",
              "      <th>4</th>\n",
              "      <td>allen-p/_sent_mail/1001.</td>\n",
              "      <td>Message-ID: &lt;30922949.1075863688243.JavaMail.e...</td>\n",
              "    </tr>\n",
              "    <tr>\n",
              "      <th>5</th>\n",
              "      <td>allen-p/_sent_mail/1002.</td>\n",
              "      <td>Message-ID: &lt;30965995.1075863688265.JavaMail.e...</td>\n",
              "    </tr>\n",
              "    <tr>\n",
              "      <th>6</th>\n",
              "      <td>allen-p/_sent_mail/1003.</td>\n",
              "      <td>Message-ID: &lt;16254169.1075863688286.JavaMail.e...</td>\n",
              "    </tr>\n",
              "    <tr>\n",
              "      <th>7</th>\n",
              "      <td>allen-p/_sent_mail/1004.</td>\n",
              "      <td>Message-ID: &lt;17189699.1075863688308.JavaMail.e...</td>\n",
              "    </tr>\n",
              "    <tr>\n",
              "      <th>8</th>\n",
              "      <td>allen-p/_sent_mail/101.</td>\n",
              "      <td>Message-ID: &lt;20641191.1075855687472.JavaMail.e...</td>\n",
              "    </tr>\n",
              "    <tr>\n",
              "      <th>9</th>\n",
              "      <td>allen-p/_sent_mail/102.</td>\n",
              "      <td>Message-ID: &lt;30795301.1075855687494.JavaMail.e...</td>\n",
              "    </tr>\n",
              "    <tr>\n",
              "      <th>10</th>\n",
              "      <td>allen-p/_sent_mail/103.</td>\n",
              "      <td>Message-ID: &lt;33076797.1075855687515.JavaMail.e...</td>\n",
              "    </tr>\n",
              "    <tr>\n",
              "      <th>11</th>\n",
              "      <td>allen-p/_sent_mail/104.</td>\n",
              "      <td>Message-ID: &lt;25459584.1075855687536.JavaMail.e...</td>\n",
              "    </tr>\n",
              "    <tr>\n",
              "      <th>12</th>\n",
              "      <td>allen-p/_sent_mail/105.</td>\n",
              "      <td>Message-ID: &lt;13116875.1075855687561.JavaMail.e...</td>\n",
              "    </tr>\n",
              "    <tr>\n",
              "      <th>13</th>\n",
              "      <td>allen-p/_sent_mail/106.</td>\n",
              "      <td>Message-ID: &lt;2707340.1075855687584.JavaMail.ev...</td>\n",
              "    </tr>\n",
              "    <tr>\n",
              "      <th>14</th>\n",
              "      <td>allen-p/_sent_mail/107.</td>\n",
              "      <td>Message-ID: &lt;2465689.1075855687605.JavaMail.ev...</td>\n",
              "    </tr>\n",
              "    <tr>\n",
              "      <th>15</th>\n",
              "      <td>allen-p/_sent_mail/108.</td>\n",
              "      <td>Message-ID: &lt;1115198.1075855687626.JavaMail.ev...</td>\n",
              "    </tr>\n",
              "    <tr>\n",
              "      <th>16</th>\n",
              "      <td>allen-p/_sent_mail/109.</td>\n",
              "      <td>Message-ID: &lt;19773657.1075855687649.JavaMail.e...</td>\n",
              "    </tr>\n",
              "    <tr>\n",
              "      <th>17</th>\n",
              "      <td>allen-p/_sent_mail/11.</td>\n",
              "      <td>Message-ID: &lt;7391389.1075855378477.JavaMail.ev...</td>\n",
              "    </tr>\n",
              "    <tr>\n",
              "      <th>18</th>\n",
              "      <td>allen-p/_sent_mail/110.</td>\n",
              "      <td>Message-ID: &lt;12759088.1075855687671.JavaMail.e...</td>\n",
              "    </tr>\n",
              "    <tr>\n",
              "      <th>19</th>\n",
              "      <td>allen-p/_sent_mail/111.</td>\n",
              "      <td>Message-ID: &lt;29177675.1075855687692.JavaMail.e...</td>\n",
              "    </tr>\n",
              "    <tr>\n",
              "      <th>20</th>\n",
              "      <td>allen-p/_sent_mail/112.</td>\n",
              "      <td>Message-ID: &lt;24729148.1075855687713.JavaMail.e...</td>\n",
              "    </tr>\n",
              "    <tr>\n",
              "      <th>21</th>\n",
              "      <td>allen-p/_sent_mail/113.</td>\n",
              "      <td>Message-ID: &lt;17610321.1075855687735.JavaMail.e...</td>\n",
              "    </tr>\n",
              "    <tr>\n",
              "      <th>22</th>\n",
              "      <td>allen-p/_sent_mail/114.</td>\n",
              "      <td>Message-ID: &lt;26575732.1075855687756.JavaMail.e...</td>\n",
              "    </tr>\n",
              "    <tr>\n",
              "      <th>23</th>\n",
              "      <td>allen-p/_sent_mail/115.</td>\n",
              "      <td>Message-ID: &lt;15294346.1075855687778.JavaMail.e...</td>\n",
              "    </tr>\n",
              "    <tr>\n",
              "      <th>24</th>\n",
              "      <td>allen-p/_sent_mail/116.</td>\n",
              "      <td>Message-ID: &lt;25140503.1075855687800.JavaMail.e...</td>\n",
              "    </tr>\n",
              "    <tr>\n",
              "      <th>25</th>\n",
              "      <td>allen-p/_sent_mail/117.</td>\n",
              "      <td>Message-ID: &lt;19034252.1075855687825.JavaMail.e...</td>\n",
              "    </tr>\n",
              "    <tr>\n",
              "      <th>26</th>\n",
              "      <td>allen-p/_sent_mail/118.</td>\n",
              "      <td>Message-ID: &lt;719350.1075855687850.JavaMail.eva...</td>\n",
              "    </tr>\n",
              "    <tr>\n",
              "      <th>27</th>\n",
              "      <td>allen-p/_sent_mail/119.</td>\n",
              "      <td>Message-ID: &lt;10523086.1075855687873.JavaMail.e...</td>\n",
              "    </tr>\n",
              "    <tr>\n",
              "      <th>28</th>\n",
              "      <td>allen-p/_sent_mail/12.</td>\n",
              "      <td>Message-ID: &lt;8572706.1075855378498.JavaMail.ev...</td>\n",
              "    </tr>\n",
              "    <tr>\n",
              "      <th>29</th>\n",
              "      <td>allen-p/_sent_mail/120.</td>\n",
              "      <td>Message-ID: &lt;29665600.1075855687895.JavaMail.e...</td>\n",
              "    </tr>\n",
              "    <tr>\n",
              "      <th>...</th>\n",
              "      <td>...</td>\n",
              "      <td>...</td>\n",
              "    </tr>\n",
              "    <tr>\n",
              "      <th>70</th>\n",
              "      <td>allen-p/_sent_mail/158.</td>\n",
              "      <td>Message-ID: &lt;8133551.1075855688727.JavaMail.ev...</td>\n",
              "    </tr>\n",
              "    <tr>\n",
              "      <th>71</th>\n",
              "      <td>allen-p/_sent_mail/159.</td>\n",
              "      <td>Message-ID: &lt;33396487.1075855688749.JavaMail.e...</td>\n",
              "    </tr>\n",
              "    <tr>\n",
              "      <th>72</th>\n",
              "      <td>allen-p/_sent_mail/16.</td>\n",
              "      <td>Message-ID: &lt;20312982.1075855378658.JavaMail.e...</td>\n",
              "    </tr>\n",
              "    <tr>\n",
              "      <th>73</th>\n",
              "      <td>allen-p/_sent_mail/160.</td>\n",
              "      <td>Message-ID: &lt;29777670.1075855688771.JavaMail.e...</td>\n",
              "    </tr>\n",
              "    <tr>\n",
              "      <th>74</th>\n",
              "      <td>allen-p/_sent_mail/161.</td>\n",
              "      <td>Message-ID: &lt;8958723.1075855688792.JavaMail.ev...</td>\n",
              "    </tr>\n",
              "    <tr>\n",
              "      <th>75</th>\n",
              "      <td>allen-p/_sent_mail/162.</td>\n",
              "      <td>Message-ID: &lt;10522460.1075855688813.JavaMail.e...</td>\n",
              "    </tr>\n",
              "    <tr>\n",
              "      <th>76</th>\n",
              "      <td>allen-p/_sent_mail/163.</td>\n",
              "      <td>Message-ID: &lt;19131288.1075855688834.JavaMail.e...</td>\n",
              "    </tr>\n",
              "    <tr>\n",
              "      <th>77</th>\n",
              "      <td>allen-p/_sent_mail/164.</td>\n",
              "      <td>Message-ID: &lt;20997494.1075855688856.JavaMail.e...</td>\n",
              "    </tr>\n",
              "    <tr>\n",
              "      <th>78</th>\n",
              "      <td>allen-p/_sent_mail/165.</td>\n",
              "      <td>Message-ID: &lt;12933608.1075855688877.JavaMail.e...</td>\n",
              "    </tr>\n",
              "    <tr>\n",
              "      <th>79</th>\n",
              "      <td>allen-p/_sent_mail/166.</td>\n",
              "      <td>Message-ID: &lt;9552654.1075855688898.JavaMail.ev...</td>\n",
              "    </tr>\n",
              "    <tr>\n",
              "      <th>80</th>\n",
              "      <td>allen-p/_sent_mail/167.</td>\n",
              "      <td>Message-ID: &lt;27058154.1075855688919.JavaMail.e...</td>\n",
              "    </tr>\n",
              "    <tr>\n",
              "      <th>81</th>\n",
              "      <td>allen-p/_sent_mail/168.</td>\n",
              "      <td>Message-ID: &lt;3183108.1075855688941.JavaMail.ev...</td>\n",
              "    </tr>\n",
              "    <tr>\n",
              "      <th>82</th>\n",
              "      <td>allen-p/_sent_mail/169.</td>\n",
              "      <td>Message-ID: &lt;12741026.1075855688962.JavaMail.e...</td>\n",
              "    </tr>\n",
              "    <tr>\n",
              "      <th>83</th>\n",
              "      <td>allen-p/_sent_mail/17.</td>\n",
              "      <td>Message-ID: &lt;17508231.1075855378741.JavaMail.e...</td>\n",
              "    </tr>\n",
              "    <tr>\n",
              "      <th>84</th>\n",
              "      <td>allen-p/_sent_mail/170.</td>\n",
              "      <td>Message-ID: &lt;27607670.1075855688984.JavaMail.e...</td>\n",
              "    </tr>\n",
              "    <tr>\n",
              "      <th>85</th>\n",
              "      <td>allen-p/_sent_mail/171.</td>\n",
              "      <td>Message-ID: &lt;11434451.1075855689007.JavaMail.e...</td>\n",
              "    </tr>\n",
              "    <tr>\n",
              "      <th>86</th>\n",
              "      <td>allen-p/_sent_mail/172.</td>\n",
              "      <td>Message-ID: &lt;12599900.1075855689029.JavaMail.e...</td>\n",
              "    </tr>\n",
              "    <tr>\n",
              "      <th>87</th>\n",
              "      <td>allen-p/_sent_mail/173.</td>\n",
              "      <td>Message-ID: &lt;4512177.1075855689051.JavaMail.ev...</td>\n",
              "    </tr>\n",
              "    <tr>\n",
              "      <th>88</th>\n",
              "      <td>allen-p/_sent_mail/174.</td>\n",
              "      <td>Message-ID: &lt;3143867.1075855689072.JavaMail.ev...</td>\n",
              "    </tr>\n",
              "    <tr>\n",
              "      <th>89</th>\n",
              "      <td>allen-p/_sent_mail/175.</td>\n",
              "      <td>Message-ID: &lt;24302765.1075855689093.JavaMail.e...</td>\n",
              "    </tr>\n",
              "    <tr>\n",
              "      <th>90</th>\n",
              "      <td>allen-p/_sent_mail/176.</td>\n",
              "      <td>Message-ID: &lt;32035482.1075855689114.JavaMail.e...</td>\n",
              "    </tr>\n",
              "    <tr>\n",
              "      <th>91</th>\n",
              "      <td>allen-p/_sent_mail/177.</td>\n",
              "      <td>Message-ID: &lt;5946371.1075855689136.JavaMail.ev...</td>\n",
              "    </tr>\n",
              "    <tr>\n",
              "      <th>92</th>\n",
              "      <td>allen-p/_sent_mail/178.</td>\n",
              "      <td>Message-ID: &lt;15573916.1075855689159.JavaMail.e...</td>\n",
              "    </tr>\n",
              "    <tr>\n",
              "      <th>93</th>\n",
              "      <td>allen-p/_sent_mail/179.</td>\n",
              "      <td>Message-ID: &lt;26241198.1075855689180.JavaMail.e...</td>\n",
              "    </tr>\n",
              "    <tr>\n",
              "      <th>94</th>\n",
              "      <td>allen-p/_sent_mail/18.</td>\n",
              "      <td>Message-ID: &lt;22040365.1075855378763.JavaMail.e...</td>\n",
              "    </tr>\n",
              "    <tr>\n",
              "      <th>95</th>\n",
              "      <td>allen-p/_sent_mail/180.</td>\n",
              "      <td>Message-ID: &lt;29919154.1075855689201.JavaMail.e...</td>\n",
              "    </tr>\n",
              "    <tr>\n",
              "      <th>96</th>\n",
              "      <td>allen-p/_sent_mail/181.</td>\n",
              "      <td>Message-ID: &lt;4511963.1075855689223.JavaMail.ev...</td>\n",
              "    </tr>\n",
              "    <tr>\n",
              "      <th>97</th>\n",
              "      <td>allen-p/_sent_mail/182.</td>\n",
              "      <td>Message-ID: &lt;33111317.1075855689245.JavaMail.e...</td>\n",
              "    </tr>\n",
              "    <tr>\n",
              "      <th>98</th>\n",
              "      <td>allen-p/_sent_mail/183.</td>\n",
              "      <td>Message-ID: &lt;1665326.1075855689266.JavaMail.ev...</td>\n",
              "    </tr>\n",
              "    <tr>\n",
              "      <th>99</th>\n",
              "      <td>allen-p/_sent_mail/184.</td>\n",
              "      <td>Message-ID: &lt;4752513.1075855689288.JavaMail.ev...</td>\n",
              "    </tr>\n",
              "  </tbody>\n",
              "</table>\n",
              "<p>100 rows × 2 columns</p>\n",
              "</div>"
            ],
            "text/plain": [
              "                        file                                            message\n",
              "0      allen-p/_sent_mail/1.  Message-ID: <18782981.1075855378110.JavaMail.e...\n",
              "1     allen-p/_sent_mail/10.  Message-ID: <15464986.1075855378456.JavaMail.e...\n",
              "2    allen-p/_sent_mail/100.  Message-ID: <24216240.1075855687451.JavaMail.e...\n",
              "3   allen-p/_sent_mail/1000.  Message-ID: <13505866.1075863688222.JavaMail.e...\n",
              "4   allen-p/_sent_mail/1001.  Message-ID: <30922949.1075863688243.JavaMail.e...\n",
              "5   allen-p/_sent_mail/1002.  Message-ID: <30965995.1075863688265.JavaMail.e...\n",
              "6   allen-p/_sent_mail/1003.  Message-ID: <16254169.1075863688286.JavaMail.e...\n",
              "7   allen-p/_sent_mail/1004.  Message-ID: <17189699.1075863688308.JavaMail.e...\n",
              "8    allen-p/_sent_mail/101.  Message-ID: <20641191.1075855687472.JavaMail.e...\n",
              "9    allen-p/_sent_mail/102.  Message-ID: <30795301.1075855687494.JavaMail.e...\n",
              "10   allen-p/_sent_mail/103.  Message-ID: <33076797.1075855687515.JavaMail.e...\n",
              "11   allen-p/_sent_mail/104.  Message-ID: <25459584.1075855687536.JavaMail.e...\n",
              "12   allen-p/_sent_mail/105.  Message-ID: <13116875.1075855687561.JavaMail.e...\n",
              "13   allen-p/_sent_mail/106.  Message-ID: <2707340.1075855687584.JavaMail.ev...\n",
              "14   allen-p/_sent_mail/107.  Message-ID: <2465689.1075855687605.JavaMail.ev...\n",
              "15   allen-p/_sent_mail/108.  Message-ID: <1115198.1075855687626.JavaMail.ev...\n",
              "16   allen-p/_sent_mail/109.  Message-ID: <19773657.1075855687649.JavaMail.e...\n",
              "17    allen-p/_sent_mail/11.  Message-ID: <7391389.1075855378477.JavaMail.ev...\n",
              "18   allen-p/_sent_mail/110.  Message-ID: <12759088.1075855687671.JavaMail.e...\n",
              "19   allen-p/_sent_mail/111.  Message-ID: <29177675.1075855687692.JavaMail.e...\n",
              "20   allen-p/_sent_mail/112.  Message-ID: <24729148.1075855687713.JavaMail.e...\n",
              "21   allen-p/_sent_mail/113.  Message-ID: <17610321.1075855687735.JavaMail.e...\n",
              "22   allen-p/_sent_mail/114.  Message-ID: <26575732.1075855687756.JavaMail.e...\n",
              "23   allen-p/_sent_mail/115.  Message-ID: <15294346.1075855687778.JavaMail.e...\n",
              "24   allen-p/_sent_mail/116.  Message-ID: <25140503.1075855687800.JavaMail.e...\n",
              "25   allen-p/_sent_mail/117.  Message-ID: <19034252.1075855687825.JavaMail.e...\n",
              "26   allen-p/_sent_mail/118.  Message-ID: <719350.1075855687850.JavaMail.eva...\n",
              "27   allen-p/_sent_mail/119.  Message-ID: <10523086.1075855687873.JavaMail.e...\n",
              "28    allen-p/_sent_mail/12.  Message-ID: <8572706.1075855378498.JavaMail.ev...\n",
              "29   allen-p/_sent_mail/120.  Message-ID: <29665600.1075855687895.JavaMail.e...\n",
              "..                       ...                                                ...\n",
              "70   allen-p/_sent_mail/158.  Message-ID: <8133551.1075855688727.JavaMail.ev...\n",
              "71   allen-p/_sent_mail/159.  Message-ID: <33396487.1075855688749.JavaMail.e...\n",
              "72    allen-p/_sent_mail/16.  Message-ID: <20312982.1075855378658.JavaMail.e...\n",
              "73   allen-p/_sent_mail/160.  Message-ID: <29777670.1075855688771.JavaMail.e...\n",
              "74   allen-p/_sent_mail/161.  Message-ID: <8958723.1075855688792.JavaMail.ev...\n",
              "75   allen-p/_sent_mail/162.  Message-ID: <10522460.1075855688813.JavaMail.e...\n",
              "76   allen-p/_sent_mail/163.  Message-ID: <19131288.1075855688834.JavaMail.e...\n",
              "77   allen-p/_sent_mail/164.  Message-ID: <20997494.1075855688856.JavaMail.e...\n",
              "78   allen-p/_sent_mail/165.  Message-ID: <12933608.1075855688877.JavaMail.e...\n",
              "79   allen-p/_sent_mail/166.  Message-ID: <9552654.1075855688898.JavaMail.ev...\n",
              "80   allen-p/_sent_mail/167.  Message-ID: <27058154.1075855688919.JavaMail.e...\n",
              "81   allen-p/_sent_mail/168.  Message-ID: <3183108.1075855688941.JavaMail.ev...\n",
              "82   allen-p/_sent_mail/169.  Message-ID: <12741026.1075855688962.JavaMail.e...\n",
              "83    allen-p/_sent_mail/17.  Message-ID: <17508231.1075855378741.JavaMail.e...\n",
              "84   allen-p/_sent_mail/170.  Message-ID: <27607670.1075855688984.JavaMail.e...\n",
              "85   allen-p/_sent_mail/171.  Message-ID: <11434451.1075855689007.JavaMail.e...\n",
              "86   allen-p/_sent_mail/172.  Message-ID: <12599900.1075855689029.JavaMail.e...\n",
              "87   allen-p/_sent_mail/173.  Message-ID: <4512177.1075855689051.JavaMail.ev...\n",
              "88   allen-p/_sent_mail/174.  Message-ID: <3143867.1075855689072.JavaMail.ev...\n",
              "89   allen-p/_sent_mail/175.  Message-ID: <24302765.1075855689093.JavaMail.e...\n",
              "90   allen-p/_sent_mail/176.  Message-ID: <32035482.1075855689114.JavaMail.e...\n",
              "91   allen-p/_sent_mail/177.  Message-ID: <5946371.1075855689136.JavaMail.ev...\n",
              "92   allen-p/_sent_mail/178.  Message-ID: <15573916.1075855689159.JavaMail.e...\n",
              "93   allen-p/_sent_mail/179.  Message-ID: <26241198.1075855689180.JavaMail.e...\n",
              "94    allen-p/_sent_mail/18.  Message-ID: <22040365.1075855378763.JavaMail.e...\n",
              "95   allen-p/_sent_mail/180.  Message-ID: <29919154.1075855689201.JavaMail.e...\n",
              "96   allen-p/_sent_mail/181.  Message-ID: <4511963.1075855689223.JavaMail.ev...\n",
              "97   allen-p/_sent_mail/182.  Message-ID: <33111317.1075855689245.JavaMail.e...\n",
              "98   allen-p/_sent_mail/183.  Message-ID: <1665326.1075855689266.JavaMail.ev...\n",
              "99   allen-p/_sent_mail/184.  Message-ID: <4752513.1075855689288.JavaMail.ev...\n",
              "\n",
              "[100 rows x 2 columns]"
            ]
          },
          "metadata": {
            "tags": []
          },
          "execution_count": 17
        }
      ]
    }
  ]
}