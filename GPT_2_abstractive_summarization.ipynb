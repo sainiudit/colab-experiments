{
  "nbformat": 4,
  "nbformat_minor": 0,
  "metadata": {
    "colab": {
      "name": "GPT-2 abstractive summarization.ipynb",
      "version": "0.3.2",
      "provenance": [],
      "collapsed_sections": [],
      "include_colab_link": true
    },
    "kernelspec": {
      "name": "python3",
      "display_name": "Python 3"
    }
  },
  "cells": [
    {
      "cell_type": "markdown",
      "metadata": {
        "id": "view-in-github",
        "colab_type": "text"
      },
      "source": [
        "<a href=\"https://colab.research.google.com/github/thingumajig/colab-experiments/blob/master/GPT_2_abstractive_summarization.ipynb\" target=\"_parent\"><img src=\"https://colab.research.google.com/assets/colab-badge.svg\" alt=\"Open In Colab\"/></a>"
      ]
    },
    {
      "cell_type": "markdown",
      "metadata": {
        "id": "SxPnVvp_rpdI",
        "colab_type": "text"
      },
      "source": [
        "# .init"
      ]
    },
    {
      "cell_type": "code",
      "metadata": {
        "id": "7mS13BFCrILI",
        "colab_type": "code",
        "colab": {
          "base_uri": "https://localhost:8080/",
          "height": 711
        },
        "outputId": "92e32a23-cea9-4dc7-a89a-2180fe2839f1"
      },
      "source": [
        "!git clone https://github.com/ilopezfr/gpt-2/\n",
        "import os\n",
        "os.chdir('gpt-2')\n",
        "!python download_model.py 117M\n",
        "!python download_model.py 345M\n",
        "!pip3 install -r requirements.txt"
      ],
      "execution_count": 1,
      "outputs": [
        {
          "output_type": "stream",
          "text": [
            "Cloning into 'gpt-2'...\n",
            "remote: Enumerating objects: 256, done.\u001b[K\n",
            "remote: Total 256 (delta 0), reused 0 (delta 0), pack-reused 256\u001b[K\n",
            "Receiving objects: 100% (256/256), 4.57 MiB | 19.44 MiB/s, done.\n",
            "Resolving deltas: 100% (141/141), done.\n",
            "Fetching checkpoint: 1.00kit [00:00, 519kit/s]                                                      \n",
            "Fetching encoder.json: 1.04Mit [00:00, 44.2Mit/s]                                                   \n",
            "Fetching hparams.json: 1.00kit [00:00, 567kit/s]                                                    \n",
            "Fetching model.ckpt.data-00000-of-00001: 498Mit [00:08, 61.2Mit/s]                                  \n",
            "Fetching model.ckpt.index: 6.00kit [00:00, 3.40Mit/s]                                               \n",
            "Fetching model.ckpt.meta: 472kit [00:00, 39.6Mit/s]                                                 \n",
            "Fetching vocab.bpe: 457kit [00:00, 40.4Mit/s]                                                       \n",
            "Fetching checkpoint: 1.00kit [00:00, 542kit/s]                                                      \n",
            "Fetching encoder.json: 1.04Mit [00:00, 37.7Mit/s]                                                   \n",
            "Fetching hparams.json: 1.00kit [00:00, 555kit/s]                                                    \n",
            "Fetching model.ckpt.data-00000-of-00001: 1.42Git [00:23, 59.8Mit/s]                                 \n",
            "Fetching model.ckpt.index: 11.0kit [00:00, 5.15Mit/s]                                               \n",
            "Fetching model.ckpt.meta: 927kit [00:00, 30.9Mit/s]                                                 \n",
            "Fetching vocab.bpe: 457kit [00:00, 43.3Mit/s]                                                       \n",
            "Collecting fire>=0.1.3 (from -r requirements.txt (line 1))\n",
            "  Downloading https://files.pythonhosted.org/packages/5a/b7/205702f348aab198baecd1d8344a90748cb68f53bdcd1cc30cbc08e47d3e/fire-0.1.3.tar.gz\n",
            "Requirement already satisfied: regex==2018.1.10 in /usr/local/lib/python3.6/dist-packages (from -r requirements.txt (line 2)) (2018.1.10)\n",
            "Requirement already satisfied: requests==2.21.0 in /usr/local/lib/python3.6/dist-packages (from -r requirements.txt (line 3)) (2.21.0)\n",
            "Collecting tqdm==4.31.1 (from -r requirements.txt (line 4))\n",
            "\u001b[?25l  Downloading https://files.pythonhosted.org/packages/6c/4b/c38b5144cf167c4f52288517436ccafefe9dc01b8d1c190e18a6b154cd4a/tqdm-4.31.1-py2.py3-none-any.whl (48kB)\n",
            "\u001b[K     |████████████████████████████████| 51kB 3.6MB/s \n",
            "\u001b[?25hRequirement already satisfied: six in /usr/local/lib/python3.6/dist-packages (from fire>=0.1.3->-r requirements.txt (line 1)) (1.12.0)\n",
            "Requirement already satisfied: urllib3<1.25,>=1.21.1 in /usr/local/lib/python3.6/dist-packages (from requests==2.21.0->-r requirements.txt (line 3)) (1.24.3)\n",
            "Requirement already satisfied: idna<2.9,>=2.5 in /usr/local/lib/python3.6/dist-packages (from requests==2.21.0->-r requirements.txt (line 3)) (2.8)\n",
            "Requirement already satisfied: certifi>=2017.4.17 in /usr/local/lib/python3.6/dist-packages (from requests==2.21.0->-r requirements.txt (line 3)) (2019.3.9)\n",
            "Requirement already satisfied: chardet<3.1.0,>=3.0.2 in /usr/local/lib/python3.6/dist-packages (from requests==2.21.0->-r requirements.txt (line 3)) (3.0.4)\n",
            "Building wheels for collected packages: fire\n",
            "  Building wheel for fire (setup.py) ... \u001b[?25l\u001b[?25hdone\n",
            "  Stored in directory: /root/.cache/pip/wheels/2a/1a/4d/6b30377c3051e76559d1185c1dbbfff15aed31f87acdd14c22\n",
            "Successfully built fire\n",
            "Installing collected packages: fire, tqdm\n",
            "  Found existing installation: tqdm 4.28.1\n",
            "    Uninstalling tqdm-4.28.1:\n",
            "      Successfully uninstalled tqdm-4.28.1\n",
            "Successfully installed fire-0.1.3 tqdm-4.31.1\n"
          ],
          "name": "stdout"
        }
      ]
    },
    {
      "cell_type": "code",
      "metadata": {
        "id": "-PURsY19rvl9",
        "colab_type": "code",
        "colab": {
          "base_uri": "https://localhost:8080/",
          "height": 35
        },
        "outputId": "8053a099-193f-4a33-900d-211a9fb44077"
      },
      "source": [
        "import os\n",
        "!pwd \n",
        "os.chdir('/content/gpt-2')\n",
        "\n",
        "import json\n",
        "import numpy as np\n",
        "import tensorflow as tf\n",
        "\n",
        "from src import model, sample, encoder\n",
        "\n",
        "import textwrap\n",
        "\n",
        "def print_wrapped_text(raw_text):\n",
        "  wrapper = textwrap.TextWrapper(width = 80)\n",
        "  wrap_list = wrapper.wrap(text=raw_text)\n",
        "\n",
        "  for line in wrap_list:\n",
        "     print(line)\n",
        "\n",
        "\n",
        "def generate_summary(\n",
        "    raw_text,\n",
        "    model_name='117M',\n",
        "    seed=None,\n",
        "    nsamples=1,\n",
        "    batch_size=1,\n",
        "    length=None,\n",
        "    temperature=1,\n",
        "    top_k=0,\n",
        "    models_dir='models',\n",
        "):\n",
        "    \"\"\"\n",
        "    Interactively run the model\n",
        "    :model_name=117M : String, which model to use\n",
        "    :seed=None : Integer seed for random number generators, fix seed to reproduce\n",
        "     results\n",
        "    :nsamples=1 : Number of samples to return total\n",
        "    :batch_size=1 : Number of batches (only affects speed/memory).  Must divide nsamples.\n",
        "    :length=None : Number of tokens in generated text, if None (default), is\n",
        "     determined by model hyperparameters\n",
        "    :temperature=1 : Float value controlling randomness in boltzmann\n",
        "     distribution. Lower temperature results in less random completions. As the\n",
        "     temperature approaches zero, the model will become deterministic and\n",
        "     repetitive. Higher temperature results in more random completions.\n",
        "    :top_k=0 : Integer value controlling diversity. 1 means only 1 word is\n",
        "     considered for each step (token), resulting in deterministic completions,\n",
        "     while 40 means 40 words are considered at each step. 0 (default) is a\n",
        "     special setting meaning no restrictions. 40 generally is a good value.\n",
        "     :models_dir : path to parent folder containing model subfolders\n",
        "     (i.e. contains the <model_name> folder)     \n",
        "    \"\"\"\n",
        "    models_dir = os.path.expanduser(os.path.expandvars(models_dir))\n",
        "    if batch_size is None:\n",
        "        batch_size = 1\n",
        "    assert nsamples % batch_size == 0\n",
        "\n",
        "    enc = encoder.get_encoder(model_name, models_dir)\n",
        "    hparams = model.default_hparams()\n",
        "    with open(os.path.join(models_dir, model_name, 'hparams.json')) as f:\n",
        "        hparams.override_from_dict(json.load(f))\n",
        "\n",
        "    if length is None:\n",
        "        length = hparams.n_ctx // 2\n",
        "    elif length > hparams.n_ctx:\n",
        "        raise ValueError(\"Can't get samples longer than window size: %s\" % hparams.n_ctx)\n",
        "\n",
        "    with tf.Session(graph=tf.Graph()) as sess:\n",
        "        context = tf.placeholder(tf.int32, [batch_size, None])\n",
        "        np.random.seed(seed)\n",
        "        tf.set_random_seed(seed)\n",
        "        output = sample.sample_sequence(\n",
        "            hparams=hparams, length=length,\n",
        "            context=context,\n",
        "            batch_size=batch_size,\n",
        "            temperature=temperature, top_k=top_k\n",
        "        )\n",
        "\n",
        "        saver = tf.train.Saver()\n",
        "        ckpt = tf.train.latest_checkpoint(os.path.join(models_dir, model_name))\n",
        "        saver.restore(sess, ckpt)\n",
        "\n",
        "        context_tokens = enc.encode(raw_text)\n",
        "        generated = 0\n",
        "        for _ in range(nsamples // batch_size):\n",
        "            out = sess.run(output, feed_dict={\n",
        "                context: [context_tokens for _ in range(batch_size)]\n",
        "            })[:, len(context_tokens):]\n",
        "            for i in range(batch_size):\n",
        "                generated += 1\n",
        "                text = enc.decode(out[i])\n",
        "                print(\"=\" * 40 + \" SAMPLE \" + str(generated) + \" \" + \"=\" * 40)\n",
        "                print_wrapped_text(text)\n",
        "        print(\"=\" * 80)\n",
        "\n",
        "\n"
      ],
      "execution_count": 20,
      "outputs": [
        {
          "output_type": "stream",
          "text": [
            "/content/gpt-2\n"
          ],
          "name": "stdout"
        }
      ]
    },
    {
      "cell_type": "code",
      "metadata": {
        "id": "9Asmgw8QuzJf",
        "colab_type": "code",
        "colab": {
          "base_uri": "https://localhost:8080/",
          "height": 485
        },
        "outputId": "465b646b-9c57-4ab6-8146-241bdea93d2a"
      },
      "source": [
        "#@title Abstractive Summarization\n",
        "raw_text = \"The results of the European elections revealed some unexpected outcomes Monday as the full picture from the world's biggest multi-country vote became clearer.  Over four days last week voters across 28 countries delivered the highest turnout in a European election for 20 years as they selected new representatives to sit in the European Parliament. Here are some of the key takeaways: Traditional centrist parties took a drubbing, with the so-called Grand Coalition -- which consists of the center-left Progressive Alliance of Socialists and Democrats (S&D) bloc and the center-right European People's Party (EPP) -- losing more than 70 seats and its majority in the EU parliament. One of the key figures in the S&D is Spanish Prime Minister Pedro Sanchez, while German chancellor Angela Merkel is part of the EPP. In contrast, liberal-centrist grouping the Alliance of Liberals and Democrats for Europe (ALDE&R), which includes French President Emmanuel Macron, picked up 32 seats and will now play an important role in nominating officials for key EU positions.\" #@param {type:\"string\"}\n",
        "text_length = 60 #@param {type:\"integer\"}\n",
        "raw_text += '\\nTL;DR:\\n'\n",
        "\n",
        "print(\"=\" * 40 + f\" Source text{len(raw_text)} \" + \" \" + \"=\" * 40)    \n",
        "print_wrapped_text(raw_text)\n",
        "print('='*80)\n",
        "\n",
        "    \n",
        "generate_summary(raw_text, model_name='345M', nsamples=3, length=text_length, temperature=1)\n"
      ],
      "execution_count": 21,
      "outputs": [
        {
          "output_type": "stream",
          "text": [
            "======================================== Source text  ========================================\n",
            "The results of the European elections revealed some unexpected outcomes Monday\n",
            "as the full picture from the world's biggest multi-country vote became clearer.\n",
            "Over four days last week voters across 28 countries delivered the highest\n",
            "turnout in a European election for 20 years as they selected new representatives\n",
            "to sit in the European Parliament. Here are some of the key takeaways:\n",
            "Traditional centrist parties took a drubbing, with the so-called Grand Coalition\n",
            "-- which consists of the center-left Progressive Alliance of Socialists and\n",
            "Democrats (S&D) bloc and the center-right European People's Party (EPP) --\n",
            "losing more than 70 seats and its majority in the EU parliament. One of the key\n",
            "figures in the S&D is Spanish Prime Minister Pedro Sanchez, while German\n",
            "chancellor Angela Merkel is part of the EPP. In contrast, liberal-centrist\n",
            "grouping the Alliance of Liberals and Democrats for Europe (ALDE&R), which\n",
            "includes French President Emmanuel Macron, picked up 32 seats and will now play\n",
            "an important role in nominating officials for key EU positions. TL;DR:\n",
            "================================================================================\n",
            "INFO:tensorflow:Restoring parameters from models/345M/model.ckpt\n",
            "======================================== SAMPLE 1 ========================================\n",
            "Lukas Thevosenki / Getty Images Laurence Frecco / La Realidad (Alexander\n",
            "Grushenkov / Reuters) In\n",
            "======================================== SAMPLE 2 ========================================\n",
            "EUR 70+ 1. Voters turned out en masse to garner an unprecedented 69% of the vote\n",
            "November 16th . . . OR/German\n",
            "======================================== SAMPLE 3 ========================================\n",
            "We split streaming voters at the center-left S&D party; T group them into larger\n",
            "somewhat flexible \"third force\" of wings deeper into\n",
            "================================================================================\n"
          ],
          "name": "stdout"
        }
      ]
    }
  ]
}