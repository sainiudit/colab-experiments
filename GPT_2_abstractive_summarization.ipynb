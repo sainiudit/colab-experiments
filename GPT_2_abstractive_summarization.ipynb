{
  "nbformat": 4,
  "nbformat_minor": 0,
  "metadata": {
    "colab": {
      "name": "GPT-2 abstractive summarization.ipynb",
      "version": "0.3.2",
      "provenance": [],
      "collapsed_sections": [],
      "include_colab_link": true
    },
    "kernelspec": {
      "name": "python3",
      "display_name": "Python 3"
    },
    "accelerator": "GPU"
  },
  "cells": [
    {
      "cell_type": "markdown",
      "metadata": {
        "id": "view-in-github",
        "colab_type": "text"
      },
      "source": [
        "<a href=\"https://colab.research.google.com/github/thingumajig/colab-experiments/blob/master/GPT_2_abstractive_summarization.ipynb\" target=\"_parent\"><img src=\"https://colab.research.google.com/assets/colab-badge.svg\" alt=\"Open In Colab\"/></a>"
      ]
    },
    {
      "cell_type": "markdown",
      "metadata": {
        "id": "ZhmlycSkbETl",
        "colab_type": "text"
      },
      "source": [
        "# From GPT-2 Paper:\n",
        "https://d4mucfpksywv.cloudfront.net/better-language-models/language-models.pdf\n",
        "\n",
        "**3.6. Summarization**\n",
        "\n",
        "We test GPT-2’s ability to perform summarization on the\n",
        "CNN and Daily Mail dataset (Nallapati et al., 2016). To induce summarization behavior we add the text TL;DR: after\n",
        "the article and generate 100 tokens with Top-k random sampling (Fan et al., 2018) with k = 2 which reduces repetition\n",
        "and encourages more abstractive summaries than greedy decoding. We use the first 3 generated sentences in these 100\n",
        "tokens as the summary. While qualitatively the generations\n",
        "resemble summaries, as shown in Table 14, they often focus\n",
        "on recent content from the article or confuse specific details\n",
        "such as how many cars were involved in a crash or whether\n",
        "a logo was on a hat or shirt. On the commonly reported\n",
        "ROUGE 1,2,L metrics the generated summaries only begin\n",
        "to approach the performance of classic neural baselines and\n",
        "just barely outperforms selecting 3 random sentences from\n",
        "the article. GPT-2’s performance drops by 6.4 points on\n",
        "the aggregate metric when the task hint is removed which\n",
        "demonstrates the ability to invoke task specific behavior in\n",
        "a language model with natural language.\n",
        "\n",
        "\n",
        "\n"
      ]
    },
    {
      "cell_type": "markdown",
      "metadata": {
        "id": "SxPnVvp_rpdI",
        "colab_type": "text"
      },
      "source": [
        "# .init"
      ]
    },
    {
      "cell_type": "code",
      "metadata": {
        "id": "7mS13BFCrILI",
        "colab_type": "code",
        "colab": {
          "base_uri": "https://localhost:8080/",
          "height": 347
        },
        "outputId": "f20707a8-f5b8-42cf-b327-89d8e2af9495"
      },
      "source": [
        "!git clone https://github.com/ilopezfr/gpt-2/\n",
        "import os, sys\n",
        "#os.chdir('gpt-2')\n",
        "sys.path.insert(0, 'gpt-2')\n",
        "\n",
        "!python gpt-2/download_model.py 117M\n",
        "!python gpt-2/download_model.py 345M\n"
      ],
      "execution_count": 1,
      "outputs": [
        {
          "output_type": "stream",
          "text": [
            "Cloning into 'gpt-2'...\n",
            "remote: Enumerating objects: 256, done.\u001b[K\n",
            "remote: Total 256 (delta 0), reused 0 (delta 0), pack-reused 256\u001b[K\n",
            "Receiving objects: 100% (256/256), 4.57 MiB | 17.03 MiB/s, done.\n",
            "Resolving deltas: 100% (141/141), done.\n",
            "Fetching checkpoint: 1.00kit [00:00, 867kit/s]                                                      \n",
            "Fetching encoder.json: 1.04Mit [00:00, 35.3Mit/s]                                                   \n",
            "Fetching hparams.json: 1.00kit [00:00, 911kit/s]                                                    \n",
            "Fetching model.ckpt.data-00000-of-00001: 498Mit [00:10, 49.4Mit/s]                                  \n",
            "Fetching model.ckpt.index: 6.00kit [00:00, 3.93Mit/s]                                               \n",
            "Fetching model.ckpt.meta: 472kit [00:00, 34.0Mit/s]                                                 \n",
            "Fetching vocab.bpe: 457kit [00:00, 33.3Mit/s]                                                       \n",
            "Fetching checkpoint: 1.00kit [00:00, 871kit/s]                                                      \n",
            "Fetching encoder.json: 1.04Mit [00:00, 36.0Mit/s]                                                   \n",
            "Fetching hparams.json: 1.00kit [00:00, 850kit/s]                                                    \n",
            "Fetching model.ckpt.data-00000-of-00001: 1.42Git [00:30, 46.9Mit/s]                                 \n",
            "Fetching model.ckpt.index: 11.0kit [00:00, 6.80Mit/s]                                               \n",
            "Fetching model.ckpt.meta: 927kit [00:00, 36.0Mit/s]                                                 \n",
            "Fetching vocab.bpe: 457kit [00:00, 33.0Mit/s]                                                       \n"
          ],
          "name": "stdout"
        }
      ]
    },
    {
      "cell_type": "markdown",
      "metadata": {
        "id": "ZrE82jgesSD0",
        "colab_type": "text"
      },
      "source": [
        "# Code"
      ]
    },
    {
      "cell_type": "code",
      "metadata": {
        "id": "-PURsY19rvl9",
        "colab_type": "code",
        "colab": {
          "base_uri": "https://localhost:8080/",
          "height": 401
        },
        "outputId": "3bd4175f-4365-4f5b-8245-d20fea4d1fb7"
      },
      "source": [
        "!pip3 install -r gpt-2/requirements.txt\n",
        "# sys.path.insert(0, 'gpt-2')\n",
        "sys.path.insert(0, 'gpt-2/src')\n",
        "\n",
        "import os\n",
        "\n",
        "import json\n",
        "import numpy as np\n",
        "import tensorflow as tf\n",
        "\n",
        "# from src import model, sample, encoder\n",
        "import model, sample, encoder\n",
        "\n",
        "import textwrap\n",
        "\n",
        "def print_wrapped_text(raw_text):\n",
        "  wrapper = textwrap.TextWrapper(width = 80)\n",
        "  wrap_list = wrapper.wrap(text=raw_text)\n",
        "\n",
        "  for line in wrap_list:\n",
        "     print(line)\n",
        "\n",
        "\n",
        "def generate_summary(\n",
        "    raw_text,\n",
        "    model_name='117M',\n",
        "    seed=None,\n",
        "    nsamples=1,\n",
        "    batch_size=1,\n",
        "    length=None,\n",
        "    temperature=1,\n",
        "    top_k=0,\n",
        "    models_dir='models',\n",
        "):\n",
        "    \"\"\"\n",
        "    Interactively run the model\n",
        "    :model_name=117M : String, which model to use\n",
        "    :seed=None : Integer seed for random number generators, fix seed to reproduce\n",
        "     results\n",
        "    :nsamples=1 : Number of samples to return total\n",
        "    :batch_size=1 : Number of batches (only affects speed/memory).  Must divide nsamples.\n",
        "    :length=None : Number of tokens in generated text, if None (default), is\n",
        "     determined by model hyperparameters\n",
        "    :temperature=1 : Float value controlling randomness in boltzmann\n",
        "     distribution. Lower temperature results in less random completions. As the\n",
        "     temperature approaches zero, the model will become deterministic and\n",
        "     repetitive. Higher temperature results in more random completions.\n",
        "    :top_k=0 : Integer value controlling diversity. 1 means only 1 word is\n",
        "     considered for each step (token), resulting in deterministic completions,\n",
        "     while 40 means 40 words are considered at each step. 0 (default) is a\n",
        "     special setting meaning no restrictions. 40 generally is a good value.\n",
        "     :models_dir : path to parent folder containing model subfolders\n",
        "     (i.e. contains the <model_name> folder)     \n",
        "    \"\"\"\n",
        "    models_dir = os.path.expanduser(os.path.expandvars(models_dir))\n",
        "    if batch_size is None:\n",
        "        batch_size = 1\n",
        "    assert nsamples % batch_size == 0\n",
        "\n",
        "    enc = encoder.get_encoder(model_name, models_dir)\n",
        "    hparams = model.default_hparams()\n",
        "    with open(os.path.join(models_dir, model_name, 'hparams.json')) as f:\n",
        "        hparams.override_from_dict(json.load(f))\n",
        "\n",
        "    if length is None:\n",
        "        length = hparams.n_ctx // 2\n",
        "    elif length > hparams.n_ctx:\n",
        "        raise ValueError(\"Can't get samples longer than window size: %s\" % hparams.n_ctx)\n",
        "\n",
        "    with tf.Session(graph=tf.Graph()) as sess:\n",
        "        context = tf.placeholder(tf.int32, [batch_size, None])\n",
        "        np.random.seed(seed)\n",
        "        tf.set_random_seed(seed)\n",
        "        output = sample.sample_sequence(\n",
        "            hparams=hparams, length=length,\n",
        "            context=context,\n",
        "            batch_size=batch_size,\n",
        "            temperature=temperature, top_k=top_k\n",
        "        )\n",
        "\n",
        "        saver = tf.train.Saver()\n",
        "        ckpt = tf.train.latest_checkpoint(os.path.join(models_dir, model_name))\n",
        "        saver.restore(sess, ckpt)\n",
        "\n",
        "        context_tokens = enc.encode(raw_text)\n",
        "        generated = 0\n",
        "        for _ in range(nsamples // batch_size):\n",
        "            out = sess.run(output, feed_dict={\n",
        "                context: [context_tokens for _ in range(batch_size)]\n",
        "            })[:, len(context_tokens):]\n",
        "            for i in range(batch_size):\n",
        "                generated += 1\n",
        "                text = enc.decode(out[i])\n",
        "                print(\"=\" * 40 + \" SAMPLE \" + str(generated) + \" \" + \"=\" * 40)\n",
        "                print_wrapped_text(text)\n",
        "        print(\"=\" * 80)\n",
        "\n",
        "\n"
      ],
      "execution_count": 2,
      "outputs": [
        {
          "output_type": "stream",
          "text": [
            "Collecting fire>=0.1.3 (from -r gpt-2/requirements.txt (line 1))\n",
            "  Downloading https://files.pythonhosted.org/packages/5a/b7/205702f348aab198baecd1d8344a90748cb68f53bdcd1cc30cbc08e47d3e/fire-0.1.3.tar.gz\n",
            "Requirement already satisfied: regex==2018.1.10 in /usr/local/lib/python3.6/dist-packages (from -r gpt-2/requirements.txt (line 2)) (2018.1.10)\n",
            "Requirement already satisfied: requests==2.21.0 in /usr/local/lib/python3.6/dist-packages (from -r gpt-2/requirements.txt (line 3)) (2.21.0)\n",
            "Collecting tqdm==4.31.1 (from -r gpt-2/requirements.txt (line 4))\n",
            "\u001b[?25l  Downloading https://files.pythonhosted.org/packages/6c/4b/c38b5144cf167c4f52288517436ccafefe9dc01b8d1c190e18a6b154cd4a/tqdm-4.31.1-py2.py3-none-any.whl (48kB)\n",
            "\u001b[K     |████████████████████████████████| 51kB 3.9MB/s \n",
            "\u001b[?25hRequirement already satisfied: six in /usr/local/lib/python3.6/dist-packages (from fire>=0.1.3->-r gpt-2/requirements.txt (line 1)) (1.12.0)\n",
            "Requirement already satisfied: certifi>=2017.4.17 in /usr/local/lib/python3.6/dist-packages (from requests==2.21.0->-r gpt-2/requirements.txt (line 3)) (2019.3.9)\n",
            "Requirement already satisfied: idna<2.9,>=2.5 in /usr/local/lib/python3.6/dist-packages (from requests==2.21.0->-r gpt-2/requirements.txt (line 3)) (2.8)\n",
            "Requirement already satisfied: urllib3<1.25,>=1.21.1 in /usr/local/lib/python3.6/dist-packages (from requests==2.21.0->-r gpt-2/requirements.txt (line 3)) (1.24.3)\n",
            "Requirement already satisfied: chardet<3.1.0,>=3.0.2 in /usr/local/lib/python3.6/dist-packages (from requests==2.21.0->-r gpt-2/requirements.txt (line 3)) (3.0.4)\n",
            "Building wheels for collected packages: fire\n",
            "  Building wheel for fire (setup.py) ... \u001b[?25l\u001b[?25hdone\n",
            "  Stored in directory: /root/.cache/pip/wheels/2a/1a/4d/6b30377c3051e76559d1185c1dbbfff15aed31f87acdd14c22\n",
            "Successfully built fire\n",
            "Installing collected packages: fire, tqdm\n",
            "  Found existing installation: tqdm 4.28.1\n",
            "    Uninstalling tqdm-4.28.1:\n",
            "      Successfully uninstalled tqdm-4.28.1\n",
            "Successfully installed fire-0.1.3 tqdm-4.31.1\n"
          ],
          "name": "stdout"
        }
      ]
    },
    {
      "cell_type": "markdown",
      "metadata": {
        "id": "ku3uJbY15Pdb",
        "colab_type": "text"
      },
      "source": [
        "# Abstractive summarization"
      ]
    },
    {
      "cell_type": "code",
      "metadata": {
        "id": "9Asmgw8QuzJf",
        "colab_type": "code",
        "colab": {
          "base_uri": "https://localhost:8080/",
          "height": 1387
        },
        "cellView": "both",
        "outputId": "cda48b4e-38a4-4ae5-9139-e31748cdea50"
      },
      "source": [
        "#@title Parameters:\n",
        "raw_text = \"Describe any lessons learned during the various phases of the project. Consider lessons both for future projects, as well as for CEPF\\u2019s future performance. Project Design Process: (aspects of the project design that contributed to its success/failure) \\u2022 The project was well designed, drawing strongly on BirdLife\\u2019s experience in strategic planning and capacity development of NGOs. \\u2022 Retaining an output on project management and technical support was helpful (output 5) to keep track of the secretariat and Africa Partnership\\u2019s role. \\u2022 The decision to appoint key staff from the previous BirdLife (Projet ZICOMA) team, but then recruit additional staff openly, was successful in ensuring a solid BirdLife \\u201Ccore\\u201D in the team, but allowing new skills to be added. \\u2022 The decision not to have a permanent expatriate technical adviser was successful in ensuring national ownership and compatibility with Asity (national NGO); at no time was this ever questioned. However, more time should have been budgeted for headquarters staff time (country programme officer): 50-75% (not one month, or <10%) of the time of a headquarters staff member would have been justified, and still much cheaper than an permanent adviser. Project Execution: (aspects of the project execution that contributed to its success/failure) \\u2022 For training, internships, BirdLife network events and on-the-job training were preferred over training courses delivered by external agencies. This proved economical and generally successful. \\u2022 Involvement of the BirdLife Africa Partnership was critical to the NGO development objectives, because the Partners (rather than secretariat) are in the best position to demonstrate the value of joining the network, and also because the Partnership itself determines whether or not a Malagasy organization will be admitted. This took place in two main ways. The chair of the Council for the African Partnership (Kinfe Abebe of the Ethiopian Wildlife and Natural History Society) attended the BIMP-Asity collaboration workshop in June 2003, and was able to explain at first hand the benefits to national NGOs of being a BirdLife Partner. The president of Asity (together with the director of BIMP) attended the Africa Partnership meeting in September, meeting representatives of all the Partners, and participating in the regional planning process. \\u2022 Involvement of the BirdLife African Partnership secretariat in Nairobi (that is, the Africa Division of the BirdLife secretariat, as distinct from the Partnership itself, as described above) was also critical to NGO development objectives, because the staff have unique experience in facilitating the development and cohesion of national NGOs and networks. Key staff directly involved through visits to Madagascar and hosting internships in Nairobi were Hazell Thompson (head) and Maaike Manten (institutional fundraiser for Africa). \\u2022 Close cooperation and frequent communication between the BIMP team (and latterly also Asity) and the secretariat headquarters helped to ensure success. Attention to detail and rapid correspondence were key parts of this, and so it was crucial that the country   8 programme officer (project manager) in UK was able allocate the necessary time. This work entails considerable UK-based costs and may be seen as administration, making it hard to fund. However, as this report makes clear, the support given is in fact largely technical, and the country programme officer system provides an economical way to provide the support needed. \\u2022 The advice and support from CI as a like-minded NGO with a strong presence in Madagascar, and from CEPF as a donor with an exceptional level of commitment to seeing projects succeed, were essential to overall success. In addition to CEPF staff, whose contribution to the success of the project was greatly appreciated, Olivier Langrand (CI \\u2013 Washington DC) provided crucial advice in the design of the project, and Frank Hawkins (CI \\u2013 Madagascar) advised throughout, often by giving guidance directly to the BIMP team. \" #@param {type:\"string\"}\n",
        "text_length = 100 #@param {type:\"slider\", min:1, max:300, step:1}\n",
        "num_samples = 3 #@param {type:\"slider\", min:1, max:10, step:1}\n",
        "temperature = 1 #@param {type:\"slider\", min:0, max:1, step:0.1}\n",
        "model_name = \"345M\" #@param [\"345M\", \"117M\"]\n",
        "seed = 32 #@param {type:\"integer\"}\n",
        "top_k = 2 #@param {type:\"slider\", min:0, max:100, step:1}\n",
        "if seed == -1:\n",
        "  seed = None\n",
        "\n",
        "raw_text += '\\nTL;DR:'\n",
        "#raw_text += '\\nSummary:'\n",
        "\n",
        "print(\"=\" * 30 + f\" Source text: len={len(raw_text)} \" + \"=\" * 30)    \n",
        "print_wrapped_text(raw_text)\n",
        "print('='*80)\n",
        "\n",
        "# os.chdir('/content/gpt-2/')    \n",
        "generate_summary(raw_text, model_name=model_name, \n",
        "                 nsamples=num_samples, \n",
        "                 length=text_length, \n",
        "                 temperature=temperature,\n",
        "                 seed = seed,\n",
        "                 top_k = top_k,\n",
        "                 models_dir='/content/models/')\n"
      ],
      "execution_count": 6,
      "outputs": [
        {
          "output_type": "stream",
          "text": [
            "============================== Source text: len=4052 ==============================\n",
            "Describe any lessons learned during the various phases of the project. Consider\n",
            "lessons both for future projects, as well as for CEPF’s future performance.\n",
            "Project Design Process: (aspects of the project design that contributed to its\n",
            "success/failure) • The project was well designed, drawing strongly on BirdLife’s\n",
            "experience in strategic planning and capacity development of NGOs. • Retaining\n",
            "an output on project management and technical support was helpful (output 5) to\n",
            "keep track of the secretariat and Africa Partnership’s role. • The decision to\n",
            "appoint key staff from the previous BirdLife (Projet ZICOMA) team, but then\n",
            "recruit additional staff openly, was successful in ensuring a solid BirdLife\n",
            "“core” in the team, but allowing new skills to be added. • The decision not to\n",
            "have a permanent expatriate technical adviser was successful in ensuring\n",
            "national ownership and compatibility with Asity (national NGO); at no time was\n",
            "this ever questioned. However, more time should have been budgeted for\n",
            "headquarters staff time (country programme officer): 50-75% (not one month, or\n",
            "<10%) of the time of a headquarters staff member would have been justified, and\n",
            "still much cheaper than an permanent adviser. Project Execution: (aspects of the\n",
            "project execution that contributed to its success/failure) • For training,\n",
            "internships, BirdLife network events and on-the-job training were preferred over\n",
            "training courses delivered by external agencies. This proved economical and\n",
            "generally successful. • Involvement of the BirdLife Africa Partnership was\n",
            "critical to the NGO development objectives, because the Partners (rather than\n",
            "secretariat) are in the best position to demonstrate the value of joining the\n",
            "network, and also because the Partnership itself determines whether or not a\n",
            "Malagasy organization will be admitted. This took place in two main ways. The\n",
            "chair of the Council for the African Partnership (Kinfe Abebe of the Ethiopian\n",
            "Wildlife and Natural History Society) attended the BIMP-Asity collaboration\n",
            "workshop in June 2003, and was able to explain at first hand the benefits to\n",
            "national NGOs of being a BirdLife Partner. The president of Asity (together with\n",
            "the director of BIMP) attended the Africa Partnership meeting in September,\n",
            "meeting representatives of all the Partners, and participating in the regional\n",
            "planning process. • Involvement of the BirdLife African Partnership secretariat\n",
            "in Nairobi (that is, the Africa Division of the BirdLife secretariat, as\n",
            "distinct from the Partnership itself, as described above) was also critical to\n",
            "NGO development objectives, because the staff have unique experience in\n",
            "facilitating the development and cohesion of national NGOs and networks. Key\n",
            "staff directly involved through visits to Madagascar and hosting internships in\n",
            "Nairobi were Hazell Thompson (head) and Maaike Manten (institutional fundraiser\n",
            "for Africa). • Close cooperation and frequent communication between the BIMP\n",
            "team (and latterly also Asity) and the secretariat headquarters helped to ensure\n",
            "success. Attention to detail and rapid correspondence were key parts of this,\n",
            "and so it was crucial that the country   8 programme officer (project manager)\n",
            "in UK was able allocate the necessary time. This work entails considerable UK-\n",
            "based costs and may be seen as administration, making it hard to fund. However,\n",
            "as this report makes clear, the support given is in fact largely technical, and\n",
            "the country programme officer system provides an economical way to provide the\n",
            "support needed. • The advice and support from CI as a like-minded NGO with a\n",
            "strong presence in Madagascar, and from CEPF as a donor with an exceptional\n",
            "level of commitment to seeing projects succeed, were essential to overall\n",
            "success. In addition to CEPF staff, whose contribution to the success of the\n",
            "project was greatly appreciated, Olivier Langrand (CI – Washington DC) provided\n",
            "crucial advice in the design of the project, and Frank Hawkins (CI – Madagascar)\n",
            "advised throughout, often by giving guidance directly to the BIMP team.  TL;DR:\n",
            "================================================================================\n",
            "INFO:tensorflow:Restoring parameters from /content/models/345M/model.ckpt\n",
            "======================================== SAMPLE 1 ========================================\n",
            " 1. The project was well-designed, drawn heavily on BirdLife's experience, and\n",
            "was well executed. 2. The project execution and planning were successful, and\n",
            "the staff involved were well-trained. 3. The advice and support from the BIMP\n",
            "team (and later Asity) were essential to overall success. 4. The advice and\n",
            "support from CI as a like-minded NGO was essential to overall\n",
            "success.<|endoftext|>The following is an article from the March/April\n",
            "======================================== SAMPLE 2 ========================================\n",
            " 1. The success of the project was due to the work of a diverse team of staff\n",
            "and volunteers, and the success of the project was largely due to the work of a\n",
            "diverse team of staff and volunteers, and the success of the project was largely\n",
            "due to the work of a diverse team of staff and volunteers, and the success of\n",
            "the project was largely due to the work of an diverse team of staff and\n",
            "volunteers, and the success of the project was largely due to the work of a\n",
            "diverse\n",
            "======================================== SAMPLE 3 ========================================\n",
            " The project was a success. The project was well designed, drew strongly on\n",
            "BirdLife's experience in strategic planning and capacity development of NGOs.\n",
            "The project was successful, and the project was well executed. The project was a\n",
            "success, and the project was well executed. The project was a failure. The\n",
            "project was a failure, and the project was poorly executed. The project was a\n",
            "failure, but the project was well executed. The project was a failure, and the\n",
            "project was poorly\n",
            "================================================================================\n"
          ],
          "name": "stdout"
        }
      ]
    }
  ]
}